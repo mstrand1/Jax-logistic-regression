{
  "nbformat": 4,
  "nbformat_minor": 0,
  "metadata": {
    "accelerator": "GPU",
    "colab": {
      "name": "Logistic regression with JAX GPU acceleration.ipynb",
      "provenance": [],
      "collapsed_sections": []
    },
    "kernelspec": {
      "display_name": "Python 3",
      "language": "python",
      "name": "python3"
    },
    "language_info": {
      "codemirror_mode": {
        "name": "ipython",
        "version": 3
      },
      "file_extension": ".py",
      "mimetype": "text/x-python",
      "name": "python",
      "nbconvert_exporter": "python",
      "pygments_lexer": "ipython3",
      "version": "3.8.5"
    }
  },
  "cells": [
    {
      "cell_type": "code",
      "metadata": {
        "colab": {
          "base_uri": "https://localhost:8080/"
        },
        "id": "v0wriOaocASB",
        "outputId": "8f0130b7-7ecc-44a5-cf34-607bf47f8d43"
      },
      "source": [
        "from google.colab import drive\n",
        "\n",
        "drive.mount('/content/drive')\n",
        "\n",
        "folder_dir = '/content/drive/My Drive/Colab Notebooks/'"
      ],
      "execution_count": null,
      "outputs": [
        {
          "name": "stdout",
          "output_type": "stream",
          "text": [
            "Mounted at /content/drive\n"
          ]
        }
      ]
    },
    {
      "cell_type": "code",
      "metadata": {
        "colab": {
          "base_uri": "https://localhost:8080/"
        },
        "id": "N9cEIiZVDPAv",
        "outputId": "1a98e08e-606d-4d88-b015-e3f2b90cbb81"
      },
      "source": [
        "from jax import jit,grad,vmap,device_put,random\n",
        "import jax.numpy as jnp\n",
        "import numpy as np\n",
        "import pandas as pd\n",
        "from functools import partial\n",
        "import time\n",
        "from sklearn.model_selection import train_test_split\n",
        "\n",
        "# Setup datasets\n",
        "\n",
        "df_kminst_train = pd.read_csv(folder_dir+'k49_train.csv')\n",
        "df_kminst_test = pd.read_csv(folder_dir+'k49_test.csv')\n",
        "\n",
        "df_kminst_train = df_kminst_train.iloc[: , 1:]\n",
        "df_kminst_test = df_kminst_test.iloc[: , 1:]\n",
        "\n",
        "y_train = df_kminst_train['label'].to_numpy()\n",
        "y_test = df_kminst_test['label'].to_numpy()\n",
        "\n",
        "X_train = df_kminst_train.loc[:, df_kminst_train.columns != 'label'].to_numpy()\n",
        "X_test = df_kminst_test.loc[:, df_kminst_test.columns != 'label'].to_numpy()\n",
        "\n",
        "print('X_train:', X_train.shape,'Y_train:', y_train.shape,'X_test:', X_test.shape,'Y_test:', y_test.shape) "
      ],
      "execution_count": null,
      "outputs": [
        {
          "name": "stdout",
          "output_type": "stream",
          "text": [
            "X_train: (232365, 784) Y_train: (232365,) X_test: (38547, 784) Y_test: (38547,)\n"
          ]
        }
      ]
    },
    {
      "cell_type": "code",
      "metadata": {
        "id": "qLEc08pPd3-w"
      },
      "source": [
        "# Logistic regression with JAX class\n",
        "\n",
        "class JaxReg:\n",
        "    \"\"\"\n",
        "    Logistic regression classifier with GPU acceleration support through Google's JAX. The point of this class is fitting speed: I want this \n",
        "    to fit a model for very large datasets (k49 in particular) as quickly as possible!\n",
        "\n",
        "    - jit compilation utilized in sigma and loss methods (strongest in sigma due to matrix mult.). We need to 'partial' the \n",
        "      jit function because it is used within a class.\n",
        "\n",
        "    - jax.numpy (jnp) operations are JAX implementations of numpy functions. \n",
        "\n",
        "    - jax.grad used as the gradient function. Returns gradient with respect to first parameter.\n",
        "\n",
        "    - jax.vmap is used to 'vectorize' the jax.grad function. Used to compute gradient of batch elements at once, in parallel.\n",
        "    \"\"\"\n",
        "\n",
        "    def __init__(self, learning_rate=.001, num_epochs = 50, size_batch = 20):\n",
        "        self.learning_rate = learning_rate\n",
        "        self.num_epochs = num_epochs\n",
        "        self.size_batch = size_batch     \n",
        "        \n",
        "    def fit(self, data, y):\n",
        "        self.K = max(y)+1 \n",
        "        ones = jnp.ones((data.shape[0],1))\n",
        "        X = jnp.concatenate((ones, data), axis = 1) \n",
        "        W = jnp.zeros((jnp.shape(X)[1], max(y)+1))\n",
        "\n",
        "        self.coeff = self.mb_gd(W, X, y)\n",
        "\n",
        "    # New mini-batch gradient descent function (because jitted functions require arrays which do not change shape)\n",
        "    def mb_gd(self, W, X, y):\n",
        "        num_epochs = self.num_epochs\n",
        "        size_batch = self.size_batch\n",
        "        eta = self.learning_rate\n",
        "        N = X.shape[0]\n",
        "      \n",
        "        # Define the gradient function using jit, vmap, and the jax's own gradient function, grad.\n",
        "        # vmap is especially useful for mini-batch GD since we compute all gradients of the batch at once, in parallel.\n",
        "        # Special paramaters in_axes,out_axes define the axis of the input paramters (W, X, y) and output (gradients of batches) \n",
        "        # upon which to vectorize. grads_b = loss_grad(W, X_batch, y_batch) has shape (batch_size, p+1, k) for p variables and k classes.\n",
        "         \n",
        "        loss_grad = jit(vmap(grad(self.loss), in_axes=(None, 0, 0), out_axes=0))\n",
        "        \n",
        "        for e in range(num_epochs):\n",
        "            shuffle_index = random.permutation(random.PRNGKey(e), N)\n",
        "            start_time = time.time()\n",
        "            for m in range(0, N, size_batch):\n",
        "                i = shuffle_index[m:m+size_batch]\n",
        "                \n",
        "                grads_b = loss_grad(W, X[i,:], y[i]) # 3D jax array of size (batch_size, p+1, k): gradients for each batch element\n",
        "\n",
        "                W -= eta * jnp.mean(grads_b, axis = 0) # Update W with average over each batch \n",
        "\n",
        "            epoch_time = time.time() - start_time # Epoch timer   \n",
        "            if e % 10 == 0:\n",
        "                print(\"Time to complete epoch\",e,\":\", epoch_time)\n",
        "        return W\n",
        "          \n",
        "    def predict(self, data):\n",
        "        ones = jnp.ones((data.shape[0],1)) \n",
        "        X = jnp.concatenate((ones, data), axis = 1)\n",
        "        W = self.coeff \n",
        "        y_pred = jnp.argmax(self.sigma(X,W), axis =1) \n",
        "        return y_pred\n",
        "    \n",
        "    def score(self, data, y_true):\n",
        "        ones = jnp.ones((data.shape[0],1))\n",
        "        X = jnp.concatenate((ones, data), axis = 1) \n",
        "        y_pred = self.predict(data) \n",
        "        acc = jnp.mean(y_pred == y_true) \n",
        "        return acc\n",
        "    \n",
        "    # jitting 'sigma' is the biggest speed-up compared to the original implementation \n",
        "    @partial(jit, static_argnums = 0)\n",
        "    def sigma(self, X, W): \n",
        "        if X.ndim == 1:\n",
        "            X = jnp.reshape(X, (-1, X.shape[0])) # jax.grad seems to necessitate a reshape: X -> (1,p+1)\n",
        "        s = jnp.exp(jnp.matmul(X, W))\n",
        "        total = jnp.sum(s, axis=1).reshape(-1,1)\n",
        "        return s/total\n",
        "\n",
        "    @partial(jit, static_argnums = 0)\n",
        "    def loss(self, W, X, y):\n",
        "        f_value = self.sigma(X, W)\n",
        "        loss_vector = jnp.zeros(X.shape[0])\n",
        "        for k in range(self.K):\n",
        "            loss_vector += jnp.log(f_value+1e-10)[:,k] * (y == k)\n",
        "        return -jnp.mean(loss_vector)"
      ],
      "execution_count": null,
      "outputs": []
    },
    {
      "cell_type": "code",
      "metadata": {
        "colab": {
          "base_uri": "https://localhost:8080/"
        },
        "id": "nGg8_IaqyRrl",
        "outputId": "c5ce58f8-2d31-42f5-f065-d48dfa0f7a0e"
      },
      "source": [
        "from jax.lib import xla_bridge\n",
        "\n",
        "# Find fitting times for JaxReg models using 20 epochs\n",
        "\n",
        "print(xla_bridge.get_backend().platform) # Confirm GPU in use\n",
        "\n",
        "# Commit data to device - note these are now JAX arrays. Type: jaxlib.xla_extension.DeviceArray\n",
        "X_train_dp = device_put(X_train)\n",
        "y_train_dp = device_put(y_train)\n",
        "\n",
        "batches = [2**i for i in range(7, 14)] # Batch sizes are powers of two\n",
        "times_jax = []\n",
        "\n",
        "for x in batches:\n",
        "    lg_sgd_jax = JaxReg(learning_rate=1e-6, num_epochs = 20, size_batch = x)\n",
        "    t0 = time.time()\n",
        "    lg_sgd_jax.fit(X_train_dp, y_train_dp)\n",
        "    t1 = time.time()\n",
        "    times_jax.append((t1-t0)/60)\n"
      ],
      "execution_count": null,
      "outputs": [
        {
          "name": "stdout",
          "output_type": "stream",
          "text": [
            "gpu\n",
            "Time to complete epoch 0 : 18.21995520591736\n",
            "Time to complete epoch 10 : 10.659940719604492\n",
            "Time to complete epoch 0 : 17.000915050506592\n",
            "Time to complete epoch 10 : 9.46127462387085\n",
            "Time to complete epoch 0 : 15.540739297866821\n",
            "Time to complete epoch 10 : 9.336594581604004\n",
            "Time to complete epoch 0 : 9.419742107391357\n",
            "Time to complete epoch 10 : 3.5257880687713623\n",
            "Time to complete epoch 0 : 9.296247720718384\n",
            "Time to complete epoch 10 : 3.497511386871338\n",
            "Time to complete epoch 0 : 9.085329532623291\n",
            "Time to complete epoch 10 : 3.462515354156494\n",
            "Time to complete epoch 0 : 10.040079832077026\n",
            "Time to complete epoch 10 : 3.3946666717529297\n"
          ]
        }
      ]
    },
    {
      "cell_type": "code",
      "metadata": {
        "id": "6yeOZdk_Kpm0"
      },
      "source": [
        ""
      ],
      "execution_count": null,
      "outputs": []
    },
    {
      "cell_type": "code",
      "metadata": {
        "id": "6O8YBOHLwfXt"
      },
      "source": [
        "# Logisitic regression classifier from Math 10 - unchanged\n",
        "\n",
        "class OldReg():\n",
        "    def __init__(self, learning_rate=.001, opt_method = 'SGD', num_epochs = 50, size_batch = 20):\n",
        "\n",
        "        # Initialize class attritubtes\n",
        "        self.learning_rate = learning_rate\n",
        "        self.opt_method = opt_method\n",
        "        self.num_epochs = num_epochs\n",
        "        self.size_batch = size_batch     \n",
        "\n",
        "    def fit(self, data, y, n_iterations = 1000):\n",
        "        self.K = max(y)+1 # Number of classes = max val. + 1 (accounts for class label 0)\n",
        "        ones = np.ones((data.shape[0],1)) # Column of ones \n",
        "        X = np.concatenate((ones, data), axis = 1) # Augment data with ones array to account for intercept\n",
        "        eta = self.learning_rate\n",
        "        \n",
        "        W  = np.zeros((np.shape(X)[1],max(y)+1)) # Initialize W as empty (p+1) x k\n",
        "\n",
        "        # Gradient Descent \n",
        "        if self.opt_method == 'GD':\n",
        "            for k in range(n_iterations):\n",
        "                dW = self.loss_gradient(W,X,y) # Compute Gradient of loss function ( L(W;X,y) )\n",
        "                W = W - eta * dW # GD forumla: update W with gradient and learning rate\n",
        "        \n",
        "        # Stochastic Gradient Descent\n",
        "        if self.opt_method == 'SGD':\n",
        "            N = X.shape[0]\n",
        "            num_epochs = self.num_epochs\n",
        "            size_batch = self.size_batch\n",
        "\n",
        "            for e in range(num_epochs):\n",
        "                shuffle_index = np.random.permutation(N) # Reshuffle data every new epoch\n",
        "                start_time = time.time()\n",
        "                for m in range(0,N,size_batch): # m is the starting index of mini-batch\n",
        "                    i = shuffle_index[m:m+size_batch] # Index of samples in the mini-batch\n",
        "                    dW = self.loss_gradient(W,X[i,:],y[i]) # Data in mini-batch computes gradient\n",
        "                    W = W - eta * dW # GD formula\n",
        "                    \n",
        "                epoch_time = time.time() - start_time\n",
        "                print(\"Time to complete epoch\",e,\":\", epoch_time)\n",
        "            \n",
        "        self.coeff = W # Assign W once GD is complete\n",
        "\n",
        "    def predict(self, data):\n",
        "        ones = np.ones((data.shape[0],1)) \n",
        "        X = np.concatenate((ones, data), axis = 1) # Augment to account for intercept\n",
        "        W = self.coeff \n",
        "        y_pred = np.argmax(self.sigma(X,W), axis =1) # Predicted class is largest probability returned by softmax array\n",
        "        return y_pred\n",
        "    \n",
        "    def score(self, data, y_true):\n",
        "        ones = np.ones((data.shape[0],1))\n",
        "        X = np.concatenate((ones, data), axis = 1) \n",
        "        y_pred = self.predict(data) \n",
        "        acc = np.mean(y_pred == y_true) # Number of correct predictions/N\n",
        "        return acc\n",
        "    \n",
        "    def sigma(self,X,W): \n",
        "        s = np.exp(np.matmul(X,W)) # array e^zi\n",
        "        total = np.sum(s, axis=1).reshape(-1,1) # sum(e^z)\n",
        "        return s/total # Array of softmax probs\n",
        "    \n",
        "    def loss(self,W,X,y):\n",
        "        f_value = self.sigma(X,W) # Find soft-max prob. of X\n",
        "        K = self.K \n",
        "        loss_vector = np.zeros(X.shape[0])\n",
        "        for k in range(K):\n",
        "            loss_vector += np.log(f_value+1e-10)[:,k] * (y == k) # Compute loss. +1e-10 to  avoid nan issues\n",
        "        print(\"loss vec\", loss_vector.shape)\n",
        "        return -np.mean(loss_vector)               \n",
        "\n",
        "    def loss_gradient(self,W,X,y):\n",
        "        f_value = self.sigma(X,W)\n",
        "        K = self.K \n",
        "        dLdW = np.zeros((X.shape[1],K))\n",
        "        for k in range(K):\n",
        "            dLdWk =(f_value[:,k] - (y==k)).reshape(-1,1)*X # Numpy broadcasting\n",
        "            dLdW[:,k] = np.mean(dLdWk, axis=0)   # RHS is 1D Numpy array -- so you can safely put it in the k-th column of 2D array dLdW  \n",
        "        return dLdW"
      ],
      "execution_count": null,
      "outputs": []
    },
    {
      "cell_type": "code",
      "metadata": {
        "colab": {
          "base_uri": "https://localhost:8080/"
        },
        "id": "LQkniqY9_x37",
        "outputId": "5dac6679-c05e-4914-91f5-25cbfffe0c29"
      },
      "source": [
        "import time\n",
        "from jax.lib import xla_bridge\n",
        "\n",
        "# Fit times for the old logisitic regression class using 20 epochs\n",
        "\n",
        "print(xla_bridge.get_backend().platform) # Also using GPU, but without acceleration\n",
        "\n",
        "times_old = []\n",
        "\n",
        "for x in batches:\n",
        "    lg_sgd_old = OldReg(learning_rate=1e-6, opt_method = 'SGD', num_epochs = 20, size_batch = x)\n",
        "    t0 = time.time()\n",
        "    lg_sgd_old.fit(X_train_dp, y_train_dp)\n",
        "    t1 = time.time()\n",
        "    times_old.append((t1-t0)/60)\n"
      ],
      "execution_count": null,
      "outputs": [
        {
          "name": "stdout",
          "output_type": "stream",
          "text": [
            "gpu\n",
            "Time to complete epoch 0 : 316.4438762664795\n",
            "Time to complete epoch 1 : 312.493798494339\n",
            "Time to complete epoch 2 : 311.62717604637146\n",
            "Time to complete epoch 3 : 313.05580711364746\n",
            "Time to complete epoch 4 : 312.63213181495667\n",
            "Time to complete epoch 5 : 312.3141930103302\n",
            "Time to complete epoch 6 : 311.9658670425415\n",
            "Time to complete epoch 7 : 311.8003704547882\n",
            "Time to complete epoch 8 : 312.7710795402527\n",
            "Time to complete epoch 9 : 313.3727157115936\n",
            "Time to complete epoch 10 : 312.7571358680725\n",
            "Time to complete epoch 11 : 312.08660197257996\n",
            "Time to complete epoch 12 : 311.5832562446594\n",
            "Time to complete epoch 13 : 312.4236171245575\n",
            "Time to complete epoch 14 : 314.6792256832123\n",
            "Time to complete epoch 15 : 311.4578011035919\n",
            "Time to complete epoch 16 : 311.6484405994415\n",
            "Time to complete epoch 17 : 313.5115809440613\n",
            "Time to complete epoch 18 : 312.38981556892395\n",
            "Time to complete epoch 19 : 314.74131178855896\n",
            "Time to complete epoch 0 : 166.48355674743652\n",
            "Time to complete epoch 1 : 165.63403224945068\n",
            "Time to complete epoch 2 : 165.0697853565216\n",
            "Time to complete epoch 3 : 165.1154887676239\n",
            "Time to complete epoch 4 : 165.15127062797546\n",
            "Time to complete epoch 5 : 164.71296620368958\n",
            "Time to complete epoch 6 : 163.19781637191772\n",
            "Time to complete epoch 7 : 164.40655779838562\n",
            "Time to complete epoch 8 : 163.9515779018402\n",
            "Time to complete epoch 9 : 165.08060598373413\n",
            "Time to complete epoch 10 : 163.765202999115\n",
            "Time to complete epoch 11 : 165.3684868812561\n",
            "Time to complete epoch 12 : 163.71972274780273\n",
            "Time to complete epoch 13 : 165.66123747825623\n",
            "Time to complete epoch 14 : 163.78877425193787\n",
            "Time to complete epoch 15 : 164.45327138900757\n",
            "Time to complete epoch 16 : 164.37683820724487\n",
            "Time to complete epoch 17 : 164.87250876426697\n",
            "Time to complete epoch 18 : 164.29962158203125\n",
            "Time to complete epoch 19 : 164.47406220436096\n",
            "Time to complete epoch 0 : 88.61623215675354\n",
            "Time to complete epoch 1 : 90.29638600349426\n",
            "Time to complete epoch 2 : 89.35876870155334\n",
            "Time to complete epoch 3 : 89.29397463798523\n",
            "Time to complete epoch 4 : 89.001131772995\n",
            "Time to complete epoch 5 : 89.80434155464172\n",
            "Time to complete epoch 6 : 89.73724794387817\n",
            "Time to complete epoch 7 : 90.28588914871216\n",
            "Time to complete epoch 8 : 88.70579385757446\n",
            "Time to complete epoch 9 : 89.48901128768921\n",
            "Time to complete epoch 10 : 89.9046835899353\n",
            "Time to complete epoch 11 : 90.04630589485168\n",
            "Time to complete epoch 12 : 88.76556658744812\n",
            "Time to complete epoch 13 : 89.5690553188324\n",
            "Time to complete epoch 14 : 89.70407247543335\n",
            "Time to complete epoch 15 : 90.03615522384644\n",
            "Time to complete epoch 16 : 89.51743268966675\n",
            "Time to complete epoch 17 : 91.38562846183777\n",
            "Time to complete epoch 18 : 89.13794159889221\n",
            "Time to complete epoch 19 : 89.60804486274719\n",
            "Time to complete epoch 0 : 50.331120014190674\n",
            "Time to complete epoch 1 : 50.27771878242493\n",
            "Time to complete epoch 2 : 51.65917634963989\n",
            "Time to complete epoch 3 : 50.78158473968506\n",
            "Time to complete epoch 4 : 50.88712215423584\n",
            "Time to complete epoch 5 : 50.65076804161072\n",
            "Time to complete epoch 6 : 50.0664484500885\n",
            "Time to complete epoch 7 : 50.03977870941162\n",
            "Time to complete epoch 8 : 51.61807870864868\n",
            "Time to complete epoch 9 : 50.93442392349243\n",
            "Time to complete epoch 10 : 52.81656789779663\n",
            "Time to complete epoch 11 : 51.33258366584778\n",
            "Time to complete epoch 12 : 51.07766127586365\n",
            "Time to complete epoch 13 : 50.311455726623535\n",
            "Time to complete epoch 14 : 52.24254298210144\n",
            "Time to complete epoch 15 : 50.91197419166565\n",
            "Time to complete epoch 16 : 50.909223318099976\n",
            "Time to complete epoch 17 : 52.38312840461731\n",
            "Time to complete epoch 18 : 52.68484330177307\n",
            "Time to complete epoch 19 : 52.17493772506714\n",
            "Time to complete epoch 0 : 32.051379919052124\n",
            "Time to complete epoch 1 : 32.55269956588745\n",
            "Time to complete epoch 2 : 33.002540826797485\n",
            "Time to complete epoch 3 : 32.275047063827515\n",
            "Time to complete epoch 4 : 33.85240340232849\n",
            "Time to complete epoch 5 : 32.75395655632019\n",
            "Time to complete epoch 6 : 33.38581824302673\n",
            "Time to complete epoch 7 : 33.0164053440094\n",
            "Time to complete epoch 8 : 33.29854464530945\n",
            "Time to complete epoch 9 : 32.364776611328125\n",
            "Time to complete epoch 10 : 33.38474369049072\n",
            "Time to complete epoch 11 : 34.193169832229614\n",
            "Time to complete epoch 12 : 32.521546840667725\n",
            "Time to complete epoch 13 : 33.24346876144409\n",
            "Time to complete epoch 14 : 32.510650634765625\n",
            "Time to complete epoch 15 : 33.304317474365234\n",
            "Time to complete epoch 16 : 33.290690183639526\n",
            "Time to complete epoch 17 : 33.291406869888306\n",
            "Time to complete epoch 18 : 32.308088541030884\n",
            "Time to complete epoch 19 : 32.430541038513184\n",
            "Time to complete epoch 0 : 27.84952163696289\n",
            "Time to complete epoch 1 : 28.05426263809204\n",
            "Time to complete epoch 2 : 28.791772842407227\n",
            "Time to complete epoch 3 : 28.199249267578125\n",
            "Time to complete epoch 4 : 27.554424285888672\n",
            "Time to complete epoch 5 : 28.306169748306274\n",
            "Time to complete epoch 6 : 27.4292631149292\n",
            "Time to complete epoch 7 : 27.84963893890381\n",
            "Time to complete epoch 8 : 27.92218041419983\n",
            "Time to complete epoch 9 : 27.898444890975952\n",
            "Time to complete epoch 10 : 28.73603892326355\n",
            "Time to complete epoch 11 : 28.410826444625854\n",
            "Time to complete epoch 12 : 29.62610650062561\n",
            "Time to complete epoch 13 : 29.599449396133423\n",
            "Time to complete epoch 14 : 29.161890983581543\n",
            "Time to complete epoch 15 : 29.62514853477478\n",
            "Time to complete epoch 16 : 29.26190733909607\n",
            "Time to complete epoch 17 : 29.556856870651245\n",
            "Time to complete epoch 18 : 29.44644570350647\n",
            "Time to complete epoch 19 : 29.115467071533203\n",
            "Time to complete epoch 0 : 26.88276743888855\n",
            "Time to complete epoch 1 : 26.27375602722168\n",
            "Time to complete epoch 2 : 26.665927171707153\n",
            "Time to complete epoch 3 : 26.353683710098267\n",
            "Time to complete epoch 4 : 25.780738592147827\n",
            "Time to complete epoch 5 : 26.106003046035767\n",
            "Time to complete epoch 6 : 25.990883827209473\n",
            "Time to complete epoch 7 : 25.73633599281311\n",
            "Time to complete epoch 8 : 25.459328174591064\n",
            "Time to complete epoch 9 : 26.048123359680176\n",
            "Time to complete epoch 10 : 25.34483790397644\n",
            "Time to complete epoch 11 : 25.68798327445984\n",
            "Time to complete epoch 12 : 25.725454807281494\n",
            "Time to complete epoch 13 : 25.419196605682373\n",
            "Time to complete epoch 14 : 26.245818853378296\n",
            "Time to complete epoch 15 : 25.4989492893219\n",
            "Time to complete epoch 16 : 25.690370321273804\n",
            "Time to complete epoch 17 : 25.87050771713257\n",
            "Time to complete epoch 18 : 26.044677734375\n",
            "Time to complete epoch 19 : 25.531667947769165\n"
          ]
        }
      ]
    },
    {
      "cell_type": "code",
      "metadata": {
        "colab": {
          "base_uri": "https://localhost:8080/"
        },
        "id": "PtcQH6XNqxcf",
        "outputId": "c7e57b0f-baf2-4e54-8c37-fb9f20795e29"
      },
      "source": [
        "# Compare speed ratios\n",
        "\n",
        "for i in range(len(times_jax)):\n",
        "    print(\"JAX regression\", round(times_old[i] / times_jax[i]), \"times as fast using batch size \", batches[i])"
      ],
      "execution_count": null,
      "outputs": [
        {
          "name": "stdout",
          "output_type": "stream",
          "text": [
            "JAX regression 29 times as fast using batch size  128\n",
            "JAX regression 17 times as fast using batch size  256\n",
            "JAX regression 9 times as fast using batch size  512\n",
            "JAX regression 13 times as fast using batch size  1024\n",
            "JAX regression 9 times as fast using batch size  2048\n",
            "JAX regression 8 times as fast using batch size  4096\n",
            "JAX regression 7 times as fast using batch size  8192\n"
          ]
        }
      ]
    },
    {
      "cell_type": "code",
      "metadata": {
        "colab": {
          "base_uri": "https://localhost:8080/",
          "height": 295
        },
        "id": "BHx7hL0a7M2R",
        "outputId": "faa0a4b5-64e6-437a-92c1-a78521e9936b"
      },
      "source": [
        "ind = np.arange(len(times_jax)) \n",
        "\n",
        "width = 0.35       \n",
        "plt.bar(ind, times_jax, width, label='JAX LR')\n",
        "plt.bar(ind + width, times_old, width,\n",
        "    label='Old LR')\n",
        "\n",
        "plt.ylabel('Time to fit 20 epochs (minutes)')\n",
        "plt.title('Logistic Regression with JAX GPU acceleration vs. standard')\n",
        "plt.xlabel('Batch size')\n",
        "plt.xticks(ind + width / 2, batches)\n",
        "plt.legend(loc='best')\n",
        "plt.show()"
      ],
      "execution_count": null,
      "outputs": [
        {
          "data": {
            "image/png": "[encoded data removed]",
            "text/plain": [
              "<Figure size 432x288 with 1 Axes>"
            ]
          },
          "metadata": {
            "needs_background": "light",
            "tags": []
          },
          "output_type": "display_data"
        }
      ]
    },
    {
      "cell_type": "code",
      "metadata": {
        "colab": {
          "base_uri": "https://localhost:8080/"
        },
        "id": "fcL-Z_rWn1Pc",
        "outputId": "462310cc-86a8-46e1-9f2b-99171095f6dd"
      },
      "source": [
        "# They are almost equally accurate\n",
        "print(lg_sgd_old.score(X_test,y_test))\n",
        "print(lg_sgd_jax.score(X_test,y_test))"
      ],
      "execution_count": null,
      "outputs": [
        {
          "name": "stdout",
          "output_type": "stream",
          "text": [
            "0.49298259267906713\n",
            "0.49267128\n"
          ]
        }
      ]
    }
  ]
}